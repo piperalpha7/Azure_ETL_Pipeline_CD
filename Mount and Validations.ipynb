{
 "cells": [
  {
   "cell_type": "code",
   "execution_count": 0,
   "metadata": {
    "application/vnd.databricks.v1+cell": {
     "cellMetadata": {},
     "inputWidgets": {},
     "nuid": "9ad32a37-3f6c-4600-a5c6-5ea37a541b76",
     "showTitle": false,
     "title": ""
    }
   },
   "outputs": [],
   "source": [
    "filename = dbutils.widgets.get('filename')\n",
    "Fnamewithoutext = filename.split('.')[0]\n",
    "print(filename)"
   ]
  },
  {
   "cell_type": "code",
   "execution_count": 0,
   "metadata": {
    "application/vnd.databricks.v1+cell": {
     "cellMetadata": {
      "byteLimit": 2048000,
      "rowLimit": 10000
     },
     "inputWidgets": {},
     "nuid": "f2a1415b-2674-4b88-acd5-338cd2f695ef",
     "showTitle": false,
     "title": ""
    }
   },
   "outputs": [
    {
     "output_type": "display_data",
     "data": {
      "text/html": [
       "<style scoped>\n",
       "  .ansiout {\n",
       "    display: block;\n",
       "    unicode-bidi: embed;\n",
       "    white-space: pre-wrap;\n",
       "    word-wrap: break-word;\n",
       "    word-break: break-all;\n",
       "    font-family: \"Menlo\", \"Monaco\", \"Consolas\", \"Ubuntu Mono\", \"Source Code Pro\", monospace;\n",
       "    font-size: 13px;\n",
       "    color: #555;\n",
       "    margin-left: 4px;\n",
       "    line-height: 19px;\n",
       "  }\n",
       "</style>\n",
       "<div class=\"ansiout\">Out[19]: [MountInfo(mountPoint=&#39;/databricks-datasets&#39;, source=&#39;databricks-datasets&#39;, encryptionType=&#39;&#39;),\n",
       " MountInfo(mountPoint=&#39;/Volumes&#39;, source=&#39;UnityCatalogVolumes&#39;, encryptionType=&#39;&#39;),\n",
       " MountInfo(mountPoint=&#39;/databricks/mlflow-tracking&#39;, source=&#39;databricks/mlflow-tracking&#39;, encryptionType=&#39;&#39;),\n",
       " MountInfo(mountPoint=&#39;/databricks-results&#39;, source=&#39;databricks-results&#39;, encryptionType=&#39;&#39;),\n",
       " MountInfo(mountPoint=&#39;/databricks/mlflow-registry&#39;, source=&#39;databricks/mlflow-registry&#39;, encryptionType=&#39;&#39;),\n",
       " MountInfo(mountPoint=&#39;/Volume&#39;, source=&#39;DbfsReserved&#39;, encryptionType=&#39;&#39;),\n",
       " MountInfo(mountPoint=&#39;/mnt/sales&#39;, source=&#39;wasbs://sales@cdstorageaccount1.blob.core.windows.net&#39;, encryptionType=&#39;&#39;),\n",
       " MountInfo(mountPoint=&#39;/volumes&#39;, source=&#39;DbfsReserved&#39;, encryptionType=&#39;&#39;),\n",
       " MountInfo(mountPoint=&#39;/&#39;, source=&#39;DatabricksRoot&#39;, encryptionType=&#39;&#39;),\n",
       " MountInfo(mountPoint=&#39;/volume&#39;, source=&#39;DbfsReserved&#39;, encryptionType=&#39;&#39;)]</div>"
      ]
     },
     "metadata": {
      "application/vnd.databricks.v1+output": {
       "addedWidgets": {},
       "arguments": {},
       "data": "<div class=\"ansiout\">Out[19]: [MountInfo(mountPoint=&#39;/databricks-datasets&#39;, source=&#39;databricks-datasets&#39;, encryptionType=&#39;&#39;),\n MountInfo(mountPoint=&#39;/Volumes&#39;, source=&#39;UnityCatalogVolumes&#39;, encryptionType=&#39;&#39;),\n MountInfo(mountPoint=&#39;/databricks/mlflow-tracking&#39;, source=&#39;databricks/mlflow-tracking&#39;, encryptionType=&#39;&#39;),\n MountInfo(mountPoint=&#39;/databricks-results&#39;, source=&#39;databricks-results&#39;, encryptionType=&#39;&#39;),\n MountInfo(mountPoint=&#39;/databricks/mlflow-registry&#39;, source=&#39;databricks/mlflow-registry&#39;, encryptionType=&#39;&#39;),\n MountInfo(mountPoint=&#39;/Volume&#39;, source=&#39;DbfsReserved&#39;, encryptionType=&#39;&#39;),\n MountInfo(mountPoint=&#39;/mnt/sales&#39;, source=&#39;wasbs://sales@cdstorageaccount1.blob.core.windows.net&#39;, encryptionType=&#39;&#39;),\n MountInfo(mountPoint=&#39;/volumes&#39;, source=&#39;DbfsReserved&#39;, encryptionType=&#39;&#39;),\n MountInfo(mountPoint=&#39;/&#39;, source=&#39;DatabricksRoot&#39;, encryptionType=&#39;&#39;),\n MountInfo(mountPoint=&#39;/volume&#39;, source=&#39;DbfsReserved&#39;, encryptionType=&#39;&#39;)]</div>",
       "datasetInfos": [],
       "metadata": {},
       "removedWidgets": [],
       "type": "html"
      }
     },
     "output_type": "display_data"
    }
   ],
   "source": [
    "# Checking all our mount points\n",
    "dbutils.fs.mounts()"
   ]
  },
  {
   "cell_type": "code",
   "execution_count": 0,
   "metadata": {
    "application/vnd.databricks.v1+cell": {
     "cellMetadata": {
      "byteLimit": 2048000,
      "rowLimit": 10000
     },
     "inputWidgets": {},
     "nuid": "48a608d0-293a-44cc-886f-394e8f84d5aa",
     "showTitle": false,
     "title": ""
    }
   },
   "outputs": [
    {
     "output_type": "display_data",
     "data": {
      "text/html": [
       "<style scoped>\n",
       "  .ansiout {\n",
       "    display: block;\n",
       "    unicode-bidi: embed;\n",
       "    white-space: pre-wrap;\n",
       "    word-wrap: break-word;\n",
       "    word-break: break-all;\n",
       "    font-family: \"Menlo\", \"Monaco\", \"Consolas\", \"Ubuntu Mono\", \"Source Code Pro\", monospace;\n",
       "    font-size: 13px;\n",
       "    color: #555;\n",
       "    margin-left: 4px;\n",
       "    line-height: 19px;\n",
       "  }\n",
       "</style>\n",
       "<div class=\"ansiout\">False\n",
       "</div>"
      ]
     },
     "metadata": {
      "application/vnd.databricks.v1+output": {
       "addedWidgets": {},
       "arguments": {},
       "data": "<div class=\"ansiout\">False\n</div>",
       "datasetInfos": [],
       "metadata": {},
       "removedWidgets": [],
       "type": "html"
      }
     },
     "output_type": "display_data"
    }
   ],
   "source": [
    "# Check if storage account is mounted\n",
    "mounted = False\n",
    "for x in dbutils.fs.mounts():\n",
    "    if x.mountPoint == '/mnt/sales':\n",
    "        mounted = True\n",
    "        break\n",
    "    else:\n",
    "        mounted = False\n",
    "\n",
    "\n",
    "print(mounted)"
   ]
  },
  {
   "cell_type": "code",
   "execution_count": 0,
   "metadata": {
    "application/vnd.databricks.v1+cell": {
     "cellMetadata": {
      "byteLimit": 2048000,
      "rowLimit": 10000
     },
     "inputWidgets": {},
     "nuid": "92e8273c-297d-4e8d-9b81-927f14d3084b",
     "showTitle": false,
     "title": ""
    }
   },
   "outputs": [
    {
     "output_type": "display_data",
     "data": {
      "text/html": [
       "<style scoped>\n",
       "  .ansiout {\n",
       "    display: block;\n",
       "    unicode-bidi: embed;\n",
       "    white-space: pre-wrap;\n",
       "    word-wrap: break-word;\n",
       "    word-break: break-all;\n",
       "    font-family: \"Menlo\", \"Monaco\", \"Consolas\", \"Ubuntu Mono\", \"Source Code Pro\", monospace;\n",
       "    font-size: 13px;\n",
       "    color: #555;\n",
       "    margin-left: 4px;\n",
       "    line-height: 19px;\n",
       "  }\n",
       "</style>\n",
       "<div class=\"ansiout\"></div>"
      ]
     },
     "metadata": {
      "application/vnd.databricks.v1+output": {
       "addedWidgets": {},
       "arguments": {},
       "data": "<div class=\"ansiout\"></div>",
       "datasetInfos": [],
       "metadata": {},
       "removedWidgets": [],
       "type": "html"
      }
     },
     "output_type": "display_data"
    }
   ],
   "source": [
    "if mounted == False:\n",
    "    extra_configs = {\n",
    "    'fs.azure.account.key.cdstorageaccount1.blob.core.windows.net': dbutils.secrets.get('cd-secrets-databricks-scope', 'storagekey')}\n",
    "\n",
    "    dbutils.fs.mount(\n",
    "        source='wasbs://sales@cdstorageaccount1.blob.core.windows.net',\n",
    "        mount_point='/mnt/sales',\n",
    "        extra_configs=extra_configs\n",
    "    )\n"
   ]
  },
  {
   "cell_type": "code",
   "execution_count": 0,
   "metadata": {
    "application/vnd.databricks.v1+cell": {
     "cellMetadata": {
      "byteLimit": 2048000,
      "rowLimit": 10000
     },
     "inputWidgets": {},
     "nuid": "08579dfb-0e54-4f28-becb-8f849f33dea4",
     "showTitle": false,
     "title": ""
    }
   },
   "outputs": [
    {
     "output_type": "display_data",
     "data": {
      "text/html": [
       "<style scoped>\n",
       "  .ansiout {\n",
       "    display: block;\n",
       "    unicode-bidi: embed;\n",
       "    white-space: pre-wrap;\n",
       "    word-wrap: break-word;\n",
       "    word-break: break-all;\n",
       "    font-family: \"Menlo\", \"Monaco\", \"Consolas\", \"Ubuntu Mono\", \"Source Code Pro\", monospace;\n",
       "    font-size: 13px;\n",
       "    color: #555;\n",
       "    margin-left: 4px;\n",
       "    line-height: 19px;\n",
       "  }\n",
       "</style>\n",
       "<div class=\"ansiout\"></div>"
      ]
     },
     "metadata": {
      "application/vnd.databricks.v1+output": {
       "addedWidgets": {},
       "arguments": {},
       "data": "<div class=\"ansiout\"></div>",
       "datasetInfos": [],
       "metadata": {},
       "removedWidgets": [],
       "type": "html"
      }
     },
     "output_type": "display_data"
    }
   ],
   "source": [
    "orders_df = spark.read.csv(f'dbfs:/mnt/sales/Landing/{filename}',inferSchema=True,header=True)"
   ]
  },
  {
   "cell_type": "code",
   "execution_count": 0,
   "metadata": {
    "application/vnd.databricks.v1+cell": {
     "cellMetadata": {
      "byteLimit": 2048000,
      "rowLimit": 10000
     },
     "inputWidgets": {},
     "nuid": "09409a82-061b-41d1-afb8-b252058ca884",
     "showTitle": false,
     "title": ""
    }
   },
   "outputs": [
    {
     "output_type": "display_data",
     "data": {
      "text/html": [
       "<style scoped>\n",
       "  .ansiout {\n",
       "    display: block;\n",
       "    unicode-bidi: embed;\n",
       "    white-space: pre-wrap;\n",
       "    word-wrap: break-word;\n",
       "    word-break: break-all;\n",
       "    font-family: \"Menlo\", \"Monaco\", \"Consolas\", \"Ubuntu Mono\", \"Source Code Pro\", monospace;\n",
       "    font-size: 13px;\n",
       "    color: #555;\n",
       "    margin-left: 4px;\n",
       "    line-height: 19px;\n",
       "  }\n",
       "</style>\n",
       "<div class=\"ansiout\">+--------+-------------------+-----------+---------------+\n",
       "order_id|         order_date|customer_id|   order_status|\n",
       "+--------+-------------------+-----------+---------------+\n",
       " 1111111|2013-07-25 00:00:00|      11599|         CLOSED|\n",
       " 2222222|2013-07-25 00:00:00|        256|PENDING_PAYMENT|\n",
       " 3333333|2013-07-25 00:00:00|      12111|       COMPLETE|\n",
       " 4444444|2013-07-25 00:00:00|       8827|         CLOSED|\n",
       "+--------+-------------------+-----------+---------------+\n",
       "\n",
       "</div>"
      ]
     },
     "metadata": {
      "application/vnd.databricks.v1+output": {
       "addedWidgets": {},
       "arguments": {},
       "data": "<div class=\"ansiout\">+--------+-------------------+-----------+---------------+\n|order_id|         order_date|customer_id|   order_status|\n+--------+-------------------+-----------+---------------+\n| 1111111|2013-07-25 00:00:00|      11599|         CLOSED|\n| 2222222|2013-07-25 00:00:00|        256|PENDING_PAYMENT|\n| 3333333|2013-07-25 00:00:00|      12111|       COMPLETE|\n| 4444444|2013-07-25 00:00:00|       8827|         CLOSED|\n+--------+-------------------+-----------+---------------+\n\n</div>",
       "datasetInfos": [],
       "metadata": {},
       "removedWidgets": [],
       "type": "html"
      }
     },
     "output_type": "display_data"
    }
   ],
   "source": [
    "orders_df.show()"
   ]
  },
  {
   "cell_type": "markdown",
   "metadata": {
    "application/vnd.databricks.v1+cell": {
     "cellMetadata": {},
     "inputWidgets": {},
     "nuid": "a7fffcfb-5c1e-4b01-b388-d917fe158ad1",
     "showTitle": false,
     "title": ""
    }
   },
   "source": [
    "### Checking for condition 1 i.e. duplicate order id's, if yes then move the file to discarded folder and exit notebook with a message or else create a temporary table"
   ]
  },
  {
   "cell_type": "code",
   "execution_count": 0,
   "metadata": {
    "application/vnd.databricks.v1+cell": {
     "cellMetadata": {
      "byteLimit": 2048000,
      "rowLimit": 10000
     },
     "inputWidgets": {},
     "nuid": "316ba574-77a2-4603-8658-ffa73bc96a99",
     "showTitle": false,
     "title": ""
    }
   },
   "outputs": [
    {
     "output_type": "display_data",
     "data": {
      "text/html": [
       "<style scoped>\n",
       "  .ansiout {\n",
       "    display: block;\n",
       "    unicode-bidi: embed;\n",
       "    white-space: pre-wrap;\n",
       "    word-wrap: break-word;\n",
       "    word-break: break-all;\n",
       "    font-family: \"Menlo\", \"Monaco\", \"Consolas\", \"Ubuntu Mono\", \"Source Code Pro\", monospace;\n",
       "    font-size: 13px;\n",
       "    color: #555;\n",
       "    margin-left: 4px;\n",
       "    line-height: 19px;\n",
       "  }\n",
       "</style>\n",
       "<div class=\"ansiout\"></div>"
      ]
     },
     "metadata": {
      "application/vnd.databricks.v1+output": {
       "addedWidgets": {},
       "arguments": {},
       "data": "<div class=\"ansiout\"></div>",
       "datasetInfos": [],
       "metadata": {},
       "removedWidgets": [],
       "type": "html"
      }
     },
     "output_type": "display_data"
    }
   ],
   "source": [
    "errorflg = False\n",
    "orders_count = orders_df.count()\n",
    "dist_orders = orders_df.select('order_id').distinct().count()\n",
    "if orders_count!=dist_orders:\n",
    "    errorflg = True\n",
    "if errorflg == True:\n",
    "    dbutils.fs.mv(f'/mnt/sales/Landing/{filename}','/mnt/sales/Discarded')\n",
    "    dbutils.notebook.exit('{\"errorflg\":\"True\",\"errorMsg\":\"Orderid is repeated\"}')\n",
    "\n",
    "\n"
   ]
  },
  {
   "cell_type": "markdown",
   "metadata": {
    "application/vnd.databricks.v1+cell": {
     "cellMetadata": {},
     "inputWidgets": {},
     "nuid": "d29eb7d7-3969-4a91-bfa5-5d193275ede0",
     "showTitle": false,
     "title": ""
    }
   },
   "source": [
    "### Then the second validation(check for valid orders_status) is evaluated.This will be compared with the list of all unique order statuses we saved in azure sql database"
   ]
  },
  {
   "cell_type": "code",
   "execution_count": 0,
   "metadata": {
    "application/vnd.databricks.v1+cell": {
     "cellMetadata": {
      "byteLimit": 2048000,
      "rowLimit": 10000
     },
     "inputWidgets": {},
     "nuid": "0f517d03-fc4d-400a-97f8-86e3e723725d",
     "showTitle": false,
     "title": ""
    }
   },
   "outputs": [
    {
     "output_type": "display_data",
     "data": {
      "text/html": [
       "<style scoped>\n",
       "  .ansiout {\n",
       "    display: block;\n",
       "    unicode-bidi: embed;\n",
       "    white-space: pre-wrap;\n",
       "    word-wrap: break-word;\n",
       "    word-break: break-all;\n",
       "    font-family: \"Menlo\", \"Monaco\", \"Consolas\", \"Ubuntu Mono\", \"Source Code Pro\", monospace;\n",
       "    font-size: 13px;\n",
       "    color: #555;\n",
       "    margin-left: 4px;\n",
       "    line-height: 19px;\n",
       "  }\n",
       "</style>\n",
       "<div class=\"ansiout\"></div>"
      ]
     },
     "metadata": {
      "application/vnd.databricks.v1+output": {
       "addedWidgets": {},
       "arguments": {},
       "data": "<div class=\"ansiout\"></div>",
       "datasetInfos": [],
       "metadata": {},
       "removedWidgets": [],
       "type": "html"
      }
     },
     "output_type": "display_data"
    }
   ],
   "source": [
    "jdbcHostname = \"cd-server-24.database.windows.net\"\n",
    "jdbcPort = 1433\n",
    "jdbcDatabase = \"cd_database_24\"\n",
    "jdbcTable = \"dbo.valid_order_status\"\n",
    "jdbcUsername = \"cdadmin\"\n",
    "jdbcPassword = dbutils.secrets.get('cd-secrets-databricks-scope', 'sql-passw')\n",
    "jdbcDriver = \"com.microsoft.sqlserver.jdbc.SQLServerDriver\"\n",
    "\n",
    "jdbcUrl = f\"jdbc:sqlserver://{jdbcHostname}:{jdbcPort};database={jdbcDatabase};user ={jdbcUsername};password={jdbcPassword}\"\n"
   ]
  },
  {
   "cell_type": "code",
   "execution_count": 0,
   "metadata": {
    "application/vnd.databricks.v1+cell": {
     "cellMetadata": {
      "byteLimit": 2048000,
      "rowLimit": 10000
     },
     "inputWidgets": {},
     "nuid": "9a12a3d7-03c0-49fd-9d81-d936707778f4",
     "showTitle": false,
     "title": ""
    }
   },
   "outputs": [
    {
     "output_type": "display_data",
     "data": {
      "text/html": [
       "<style scoped>\n",
       "  .ansiout {\n",
       "    display: block;\n",
       "    unicode-bidi: embed;\n",
       "    white-space: pre-wrap;\n",
       "    word-wrap: break-word;\n",
       "    word-break: break-all;\n",
       "    font-family: \"Menlo\", \"Monaco\", \"Consolas\", \"Ubuntu Mono\", \"Source Code Pro\", monospace;\n",
       "    font-size: 13px;\n",
       "    color: #555;\n",
       "    margin-left: 4px;\n",
       "    line-height: 19px;\n",
       "  }\n",
       "</style>\n",
       "<div class=\"ansiout\"></div>"
      ]
     },
     "metadata": {
      "application/vnd.databricks.v1+output": {
       "addedWidgets": {},
       "arguments": {},
       "data": "<div class=\"ansiout\"></div>",
       "datasetInfos": [],
       "metadata": {},
       "removedWidgets": [],
       "type": "html"
      }
     },
     "output_type": "display_data"
    }
   ],
   "source": [
    "df_status = spark.read.format(\"jdbc\").option(\"url\",jdbcUrl).option(\"dbtable\",jdbcTable).load()"
   ]
  },
  {
   "cell_type": "code",
   "execution_count": 0,
   "metadata": {
    "application/vnd.databricks.v1+cell": {
     "cellMetadata": {
      "byteLimit": 2048000,
      "rowLimit": 10000
     },
     "inputWidgets": {},
     "nuid": "e8b0d04e-d5f5-4a7b-969b-2d170dce12b4",
     "showTitle": false,
     "title": ""
    }
   },
   "outputs": [
    {
     "output_type": "display_data",
     "data": {
      "text/html": [
       "<style scoped>\n",
       "  .table-result-container {\n",
       "    max-height: 300px;\n",
       "    overflow: auto;\n",
       "  }\n",
       "  table, th, td {\n",
       "    border: 1px solid black;\n",
       "    border-collapse: collapse;\n",
       "  }\n",
       "  th, td {\n",
       "    padding: 5px;\n",
       "  }\n",
       "  th {\n",
       "    text-align: left;\n",
       "  }\n",
       "</style><div class='table-result-container'><table class='table-result'><thead style='background-color: white'><tr><th>status_name</th></tr></thead><tbody><tr><td>ON_HOLD</td></tr><tr><td>PAYMENT_REVIEW</td></tr><tr><td>PROCESSING</td></tr><tr><td>CLOSED</td></tr><tr><td>SUSPECTED_FRAUD</td></tr><tr><td>COMPLETE</td></tr><tr><td>PENDING</td></tr><tr><td>CANCELED</td></tr><tr><td>PENDING_PAYMENT</td></tr></tbody></table></div>"
      ]
     },
     "metadata": {
      "application/vnd.databricks.v1+output": {
       "addedWidgets": {},
       "aggData": [],
       "aggError": "",
       "aggOverflow": false,
       "aggSchema": [],
       "aggSeriesLimitReached": false,
       "aggType": "",
       "arguments": {},
       "columnCustomDisplayInfos": {},
       "data": [
        [
         "ON_HOLD"
        ],
        [
         "PAYMENT_REVIEW"
        ],
        [
         "PROCESSING"
        ],
        [
         "CLOSED"
        ],
        [
         "SUSPECTED_FRAUD"
        ],
        [
         "COMPLETE"
        ],
        [
         "PENDING"
        ],
        [
         "CANCELED"
        ],
        [
         "PENDING_PAYMENT"
        ]
       ],
       "datasetInfos": [],
       "dbfsResultPath": null,
       "isJsonSchema": true,
       "metadata": {},
       "overflow": false,
       "plotOptions": {
        "customPlotOptions": {},
        "displayType": "table",
        "pivotAggregation": null,
        "pivotColumns": null,
        "xColumns": null,
        "yColumns": null
       },
       "removedWidgets": [],
       "schema": [
        {
         "metadata": "{\"scale\":0}",
         "name": "status_name",
         "type": "\"string\""
        }
       ],
       "type": "table"
      }
     },
     "output_type": "display_data"
    }
   ],
   "source": [
    "display(df_status)"
   ]
  },
  {
   "cell_type": "code",
   "execution_count": 0,
   "metadata": {
    "application/vnd.databricks.v1+cell": {
     "cellMetadata": {
      "byteLimit": 2048000,
      "rowLimit": 10000
     },
     "inputWidgets": {},
     "nuid": "130bd1b9-8b9f-403e-8910-9df5b75bc9ec",
     "showTitle": false,
     "title": ""
    }
   },
   "outputs": [
    {
     "output_type": "display_data",
     "data": {
      "text/html": [
       "<style scoped>\n",
       "  .ansiout {\n",
       "    display: block;\n",
       "    unicode-bidi: embed;\n",
       "    white-space: pre-wrap;\n",
       "    word-wrap: break-word;\n",
       "    word-break: break-all;\n",
       "    font-family: \"Menlo\", \"Monaco\", \"Consolas\", \"Ubuntu Mono\", \"Source Code Pro\", monospace;\n",
       "    font-size: 13px;\n",
       "    color: #555;\n",
       "    margin-left: 4px;\n",
       "    line-height: 19px;\n",
       "  }\n",
       "</style>\n",
       "<div class=\"ansiout\">+------------+\n",
       "order_status|\n",
       "+------------+\n",
       "+------------+\n",
       "\n",
       "</div>"
      ]
     },
     "metadata": {
      "application/vnd.databricks.v1+output": {
       "addedWidgets": {},
       "arguments": {},
       "data": "<div class=\"ansiout\">+------------+\n|order_status|\n+------------+\n+------------+\n\n</div>",
       "datasetInfos": [],
       "metadata": {},
       "removedWidgets": [],
       "type": "html"
      }
     },
     "output_type": "display_data"
    }
   ],
   "source": [
    "values_to_check = [df_status.collect()[i][0] for i in range (0,df_status.count())]\n",
    "filtered_df = orders_df.filter(~orders_df.order_status.isin(values_to_check)).select('order_status')\n",
    "filtered_df.show()\n"
   ]
  },
  {
   "cell_type": "code",
   "execution_count": 0,
   "metadata": {
    "application/vnd.databricks.v1+cell": {
     "cellMetadata": {
      "byteLimit": 2048000,
      "rowLimit": 10000
     },
     "inputWidgets": {},
     "nuid": "83f8da60-7df2-4bd6-9a24-989f5c069c18",
     "showTitle": false,
     "title": ""
    }
   },
   "outputs": [
    {
     "output_type": "display_data",
     "data": {
      "text/html": [
       "<style scoped>\n",
       "  .ansiout {\n",
       "    display: block;\n",
       "    unicode-bidi: embed;\n",
       "    white-space: pre-wrap;\n",
       "    word-wrap: break-word;\n",
       "    word-break: break-all;\n",
       "    font-family: \"Menlo\", \"Monaco\", \"Consolas\", \"Ubuntu Mono\", \"Source Code Pro\", monospace;\n",
       "    font-size: 13px;\n",
       "    color: #555;\n",
       "    margin-left: 4px;\n",
       "    line-height: 19px;\n",
       "  }\n",
       "</style>\n",
       "<div class=\"ansiout\">Out[115]: 0</div>"
      ]
     },
     "metadata": {
      "application/vnd.databricks.v1+output": {
       "addedWidgets": {},
       "arguments": {},
       "data": "<div class=\"ansiout\">Out[115]: 0</div>",
       "datasetInfos": [],
       "metadata": {},
       "removedWidgets": [],
       "type": "html"
      }
     },
     "output_type": "display_data"
    }
   ],
   "source": [
    "filtered_df.count()"
   ]
  },
  {
   "cell_type": "code",
   "execution_count": 0,
   "metadata": {
    "application/vnd.databricks.v1+cell": {
     "cellMetadata": {
      "byteLimit": 2048000,
      "rowLimit": 10000
     },
     "inputWidgets": {},
     "nuid": "3614a5b5-eb62-4f78-8bb1-52529805d252",
     "showTitle": false,
     "title": ""
    }
   },
   "outputs": [],
   "source": [
    "if filtered_df.count()>0:\n",
    "    errorflg = True\n",
    "\n",
    "if errorflg == True:\n",
    "    dbutils.fs.mv(f'/mnt/sales/Landing/{filename}','/mnt/sales/Discarded')\n",
    "    dbutils.notebook.exit('{\"errorflg\":\"True\",\"errorMsg\":\"Invalid order status found\"}')\n",
    "else:\n",
    "    dbutils.fs.mv(f'/mnt/sales/Landing/{filename}','/mnt/sales/Staging')\n",
    "    dbutils.notebook.exit('{\"errorflg\":\"False\",\"errorMsg\":\"All Good\"}')\n"
   ]
  }
 ],
 "metadata": {
  "application/vnd.databricks.v1+notebook": {
   "dashboards": [],
   "environmentMetadata": null,
   "language": "python",
   "notebookMetadata": {
    "pythonIndentUnit": 4
   },
   "notebookName": "Validation_check_week24_dynamic mount",
   "widgets": {}
  }
 },
 "nbformat": 4,
 "nbformat_minor": 0
}
